{
 "cells": [
  {
   "cell_type": "code",
   "execution_count": 1,
   "metadata": {},
   "outputs": [],
   "source": [
    "\"\"\"greedyアルゴリズムで使用するItemクラスとそれにまつわる関数の定義\"\"\"\n",
    "class Item(object):\n",
    "    def __init__(self, n, v, w):\n",
    "        self.__index = n\n",
    "        self.__value = v\n",
    "        if float(w) <= 0.0:\n",
    "            raise ValueError(w)\n",
    "        self.__weight = w\n",
    "\n",
    "    def getIndex(self):\n",
    "        return self.__index\n",
    "\n",
    "    def getWeight(self):\n",
    "        return self.__weight\n",
    "\n",
    "    def getValue(self):\n",
    "        return self.__value\n",
    "\n",
    "    def __str__(self):\n",
    "        string_letter = '[%d] weight = %s, value = %s' % (self.__index, self.__weight, self.__value)\n",
    "        return string_letter\n",
    "        \n",
    "def value(item):\n",
    "    return item.getValue()\n",
    "\n",
    "def weightInverse(item):\n",
    "    return 1.0/item.getWeight()\n",
    "\n",
    "def density(item):\n",
    "    return item.getValue()/item.getWeight()"
   ]
  },
  {
   "cell_type": "code",
   "execution_count": 2,
   "metadata": {},
   "outputs": [],
   "source": [
    "\"\"\"greedyアルゴリズム本体\"\"\"\n",
    "def greedy(items, maxWeight, keyFunction):\n",
    "    copiedItems = sorted(items, key=keyFunction, reverse=True)\n",
    "    result = []\n",
    "    totalValue, totalWeight = 0.0, 0.0\n",
    "    for item in copiedItems:\n",
    "        if (totalWeight + item.getWeight()) <= maxWeight:\n",
    "            result.append(item)\n",
    "            totalWeight += item.getWeight()\n",
    "            totalValue += item.getValue()\n",
    "    return result, totalValue"
   ]
  },
  {
   "cell_type": "code",
   "execution_count": 3,
   "metadata": {},
   "outputs": [
    {
     "name": "stdout",
     "output_type": "stream",
     "text": [
      "価値を基準としたアルゴリズム実行の結果 ...\n",
      "取得した品物の総価値 :  26.0\n",
      "  [1] weight = 11, value = 15\n",
      "  [15] weight = 10, value = 11\n",
      "\n",
      "重量を基準としたアルゴリズム実行の結果 ...\n",
      "取得した品物の総価値 :  23.0\n",
      "  [4] weight = 1, value = 2\n",
      "  [18] weight = 1, value = 1\n",
      "  [2] weight = 2, value = 3\n",
      "  [8] weight = 2, value = 2\n",
      "  [3] weight = 3, value = 2\n",
      "  [13] weight = 3, value = 4\n",
      "  [5] weight = 4, value = 4\n",
      "  [9] weight = 4, value = 5\n",
      "\n",
      "価値/重量比を基準としたアルゴリズム実行の結果 ...\n",
      "取得した品物の総価値 :  32.0\n",
      "  [4] weight = 1, value = 2\n",
      "  [17] weight = 5, value = 9\n",
      "  [11] weight = 5, value = 8\n",
      "  [2] weight = 2, value = 3\n",
      "  [13] weight = 3, value = 4\n",
      "  [9] weight = 4, value = 5\n",
      "  [18] weight = 1, value = 1\n"
     ]
    }
   ],
   "source": [
    "\"\"\"greedyアルゴリズムのテスト実行用モジュール\"\"\"\n",
    "def buildItems():\n",
    "    indices   = [1 , 2, 3, 4, 5, 6, 7, 8, 9, 10, 11, 12, 13, 14, 15, 16, 17, 18, 19, 20]\n",
    "    values    = [15, 3, 2, 2, 4, 5, 7, 2, 5, 6 , 8 , 10, 4 , 10, 11, 13, 9 , 1 , 6 , 6]\n",
    "    weights   = [11, 2, 3, 1, 4, 6, 8, 2, 4, 7 , 5 , 9 , 3 , 8 , 10, 12, 5 , 1 , 6 , 5]\n",
    "\n",
    "    items = []\n",
    "    for i in range(len(indices)):\n",
    "        items.append(Item(indices[i], values[i], weights[i]))\n",
    "    return items\n",
    "\n",
    "def testGreedy(items, maxWeight, keyFunction):\n",
    "    taken, val = greedy(items, maxWeight, keyFunction)\n",
    "    print('取得した品物の総価値 : ', val)\n",
    "    for item in taken:\n",
    "        print(' ', item)\n",
    "\n",
    "def testGreedys(maxWeight = 21):\n",
    "    items = buildItems()\n",
    "    print('価値を基準としたアルゴリズム実行の結果 ...')\n",
    "    testGreedy(items, maxWeight, value)\n",
    "    print('\\n重量を基準としたアルゴリズム実行の結果 ...')\n",
    "    testGreedy(items, maxWeight, weightInverse)\n",
    "    print('\\n価値/重量比を基準としたアルゴリズム実行の結果 ...')\n",
    "    testGreedy(items, maxWeight, density)\n",
    "\n",
    "testGreedys()"
   ]
  },
  {
   "cell_type": "code",
   "execution_count": null,
   "metadata": {},
   "outputs": [],
   "source": []
  }
 ],
 "metadata": {
  "kernelspec": {
   "display_name": "Python 3",
   "language": "python",
   "name": "python3"
  },
  "language_info": {
   "codemirror_mode": {
    "name": "ipython",
    "version": 3
   },
   "file_extension": ".py",
   "mimetype": "text/x-python",
   "name": "python",
   "nbconvert_exporter": "python",
   "pygments_lexer": "ipython3",
   "version": "3.6.8"
  }
 },
 "nbformat": 4,
 "nbformat_minor": 2
}
